{
 "cells": [
  {
   "cell_type": "markdown",
   "id": "6cf468ba-30e9-4e5f-bcbb-d3a730ce8e57",
   "metadata": {},
   "source": [
    "# Extract Data\n",
    "\n",
    "Notebook purpose: \n",
    "- extract restaurant data from YELP API"
   ]
  },
  {
   "cell_type": "code",
   "execution_count": 6,
   "id": "49341007-93ef-4d30-a499-33f4bb87c094",
   "metadata": {},
   "outputs": [],
   "source": [
    "# imports \n",
    "import pandas as pd \n",
    "import requests \n",
    "import os \n",
    "from IPython.display import display, JSON # enables interaction with JSON directly in notebook"
   ]
  },
  {
   "cell_type": "code",
   "execution_count": 5,
   "id": "0d93900b-4201-480a-970d-e9e4ed95f713",
   "metadata": {},
   "outputs": [],
   "source": [
    "# Specify the name of your environment variable\n",
    "api_key_name = 'YOUR_API_KEY_VARIABLE_NAME'\n",
    "\n",
    "# Check if the environment variable is set\n",
    "api_key = os.getenv(api_key_name)\n",
    "\n",
    "if api_key:\n",
    "    print(f\"The API key is set: {api_key}\")\n",
    "else:\n",
    "    print(\"The API key is not set in the environment variables.\")"
   ]
  },
  {
   "cell_type": "code",
   "execution_count": null,
   "id": "ae5043a6-c5a5-424b-bda3-4c2ad19612d6",
   "metadata": {},
   "outputs": [],
   "source": []
  }
 ],
 "metadata": {
  "kernelspec": {
   "display_name": "Python (lhl_midterm_env)",
   "language": "python",
   "name": "lhl_midterm_env"
  },
  "language_info": {
   "codemirror_mode": {
    "name": "ipython",
    "version": 3
   },
   "file_extension": ".py",
   "mimetype": "text/x-python",
   "name": "python",
   "nbconvert_exporter": "python",
   "pygments_lexer": "ipython3",
   "version": "3.9.18"
  }
 },
 "nbformat": 4,
 "nbformat_minor": 5
}
